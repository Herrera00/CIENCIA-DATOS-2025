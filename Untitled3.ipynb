{
  "nbformat": 4,
  "nbformat_minor": 0,
  "metadata": {
    "colab": {
      "provenance": [],
      "authorship_tag": "ABX9TyODZiRHbFWi77I2AHY3ibi1",
      "include_colab_link": true
    },
    "kernelspec": {
      "name": "python3",
      "display_name": "Python 3"
    },
    "language_info": {
      "name": "python"
    }
  },
  "cells": [
    {
      "cell_type": "markdown",
      "metadata": {
        "id": "view-in-github",
        "colab_type": "text"
      },
      "source": [
        "<a href=\"https://colab.research.google.com/github/Herrera00/CIENCIA-DATOS-2025/blob/main/Untitled3.ipynb\" target=\"_parent\"><img src=\"https://colab.research.google.com/assets/colab-badge.svg\" alt=\"Open In Colab\"/></a>"
      ]
    },
    {
      "cell_type": "code",
      "execution_count": null,
      "metadata": {
        "id": "NAJDit4H1Pq2"
      },
      "outputs": [],
      "source": [
        "#operador ternario\n",
        "Es otra forma de declarar la estrucutra condicional\n",
        "\n",
        "if(condicion)\n",
        "Rta si la condicion es verdadera\n",
        "else:\n",
        "  Rta si la condicion es ForwardDeclaredInstance\n",
        "\n",
        "#operador ternario\n",
        "Rta si es verdadero if (condicion) else\n",
        "Rta si es falso\n",
        "\n",
        "1#ejemplo\n",
        "2#conocer cual es el mayor de dos numeros\n",
        "3 a=int(input(\"ingrese un valor\"))\n",
        "4 b=int(input(\"ingrese otro valor\"))\n",
        "\n",
        "1 if a>b\n",
        "2 print(f\"{a} es mayor que {b}\")\n",
        "3 else:\n",
        "4 print(f\"{b}es mayor que {a}\")\n",
        "\n",
        "\n",
        "1#operador ternario\n",
        "2 msg=f\"{a}  es mayor que {b}\"if a>b else f\"{b} es mayor que {a}\"\n",
        "3 print(msg)\n",
        "\n"
      ]
    },
    {
      "cell_type": "markdown",
      "source": [
        "#FUNCIONES\n",
        "\n",
        "1. funciones / metodos\n",
        "2. funciones anonimas\n"
      ],
      "metadata": {
        "id": "NJF8DbgP4GHb"
      }
    },
    {
      "cell_type": "markdown",
      "source": [
        "##funciones\n",
        "declarando una funcion\n",
        "\n",
        "def (nombre_de_la_funcion)(parametros de la funcion):\n",
        " Adrento va lo que se va a ejecutar\n",
        "\n",
        " 1. sin parametro, sin retorno\n",
        " 2. sin parametro, con retorno\n",
        " 3. con parametro, sin retorno\n",
        " 4. con parametro, con retorno"
      ],
      "metadata": {
        "id": "qhk8xjgD4Rvo"
      }
    },
    {
      "cell_type": "markdown",
      "source": [
        "###1. sin parametro, sin retorno\n",
        "Se emplea cuando no se requiere un almacenamiento en una variable local.\n",
        "\n",
        "No se requieren paramnetro su uso"
      ],
      "metadata": {
        "id": "E49KGY1554vP"
      }
    },
    {
      "cell_type": "code",
      "source": [
        "1 print(\"Hola muhndo\")"
      ],
      "metadata": {
        "id": "L9xZD0kX5iMP"
      },
      "execution_count": null,
      "outputs": []
    },
    {
      "cell_type": "code",
      "source": [
        "1 def saludo():\n",
        "2 print (\"Hola mundo\")"
      ],
      "metadata": {
        "id": "AJ54f1Zy5nVA"
      },
      "execution_count": null,
      "outputs": []
    },
    {
      "cell_type": "markdown",
      "source": [
        "###3. Con parametro, sin retorno\n",
        "\n"
      ],
      "metadata": {
        "id": "uyLjvn9e7Qq1"
      }
    },
    {
      "cell_type": "code",
      "source": [
        "1 def cuadrado(a) : print(a**2)\n",
        "2 cuadrado(5)\n"
      ],
      "metadata": {
        "id": "zuQkJiTL7Z_N"
      },
      "execution_count": null,
      "outputs": []
    },
    {
      "cell_type": "markdown",
      "source": [
        "4. Con parametro, con retorno"
      ],
      "metadata": {
        "id": "4hC58wbs7vPU"
      }
    },
    {
      "cell_type": "code",
      "source": [
        "1 def cubo(b) : return(b**3)\n",
        "2 a=cube(6)\n",
        "3 a"
      ],
      "metadata": {
        "id": "yHhUjXlo7yYV"
      },
      "execution_count": null,
      "outputs": []
    }
  ]
}