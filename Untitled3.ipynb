{
  "nbformat": 4,
  "nbformat_minor": 0,
  "metadata": {
    "colab": {
      "provenance": []
    },
    "kernelspec": {
      "name": "python3",
      "display_name": "Python 3"
    },
    "language_info": {
      "name": "python"
    }
  },
  "cells": [
    {
      "cell_type": "code",
      "execution_count": null,
      "metadata": {
        "id": "NAJDit4H1Pq2"
      },
      "outputs": [],
      "source": [
        "#operador ternario\n",
        "Es otra forma de declarar la estrucutra condicional\n",
        "\n",
        "if(condicion)\n",
        "Rta si la condicion es verdadera\n",
        "else:\n",
        "  Rta si la condicion es ForwardDeclaredInstance\n",
        "\n",
        "#operador ternario\n",
        "Rta si es verdadero if (condicion) else\n",
        "Rta si es falso\n",
        "\n",
        "\n"
      ]
    }
  ]
}