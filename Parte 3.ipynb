{
  "nbformat": 4,
  "nbformat_minor": 0,
  "metadata": {
    "colab": {
      "provenance": []
    },
    "kernelspec": {
      "name": "python3",
      "display_name": "Python 3"
    },
    "language_info": {
      "name": "python"
    }
  },
  "cells": [
    {
      "cell_type": "code",
      "execution_count": 6,
      "metadata": {
        "colab": {
          "base_uri": "https://localhost:8080/"
        },
        "id": "ZVmc4hhv8DEQ",
        "outputId": "e88f946a-6c09-4f1a-85b8-214591f9acb6"
      },
      "outputs": [
        {
          "output_type": "stream",
          "name": "stdout",
          "text": [
            "Top 3 most used words:\n",
            "costs: 6 times\n",
            "rent: 4 times\n",
            "variable: 4 times\n"
          ]
        }
      ],
      "source": [
        "from collections import Counter\n",
        "import re\n",
        "\n",
        "text = \"\"\"Economies of scale is a term frequently used in microeconomics to describe situations in which, as your business grows, you can produce at a lower cost per unit. A lot of times, this happens thanks to fixed costs working in your favor.\n",
        "\n",
        "Let's assume John starts a business that involves making small wooden airplanes and selling them at 20 bucks each. For the sake of simplicity, we'll also assume:\n",
        "A) He does everything himself.\n",
        "B) His only fixed cost is the $1,000 he pays monthly to rent the space he needs, with utilities included, free of charge.\n",
        "C) His variable costs are the various parts he uses for his airplanes, which amount to $5 per plane.\n",
        "\n",
        "His first month is awful. With only 10 orders, he generates $200 but has to pay $1,050 to make those planes—$1,000 to cover his rent, and $50 in variable costs. As such, he loses money because his per-plane cost is a whopping $105.\n",
        "His second month, however, is great, with him receiving 500 orders. He generates $10,000 and pays $3,500—$1,000 for rent and $2,500 in variable costs—securing a more than decent $6,500 profit. His per-plane cost is now a much lower $7.\n",
        "The fact that his rent didn't go up along with the order volume means the fixed cost dimension helped a lot. However, economies of scale can also work by negotiating bulk deals on materials and bringing his variable costs down.\n",
        "Unfortunately, there are limits involved, such as:\n",
        "John eventually needing more space,\n",
        "his supplier running out of inventory, forcing him to buy from more expensive vendors,\n",
        "the local market being saturated, making it necessary to find customers in other regions—with shipping costs added to the mix—and so on.\"\"\"\n",
        "\n",
        "# --- Text Cleaning ---\n",
        "# Convert to lowercase\n",
        "text = text.lower()\n",
        "\n",
        "# Remove punctuation/special characters using regex\n",
        "words = re.findall(r'\\b\\w+\\b', text)\n",
        "\n",
        "# Optional: Remove common stopwords (like 'the', 'is', 'and')\n",
        "stopwords = {\"the\", \"is\", \"and\", \"of\", \"in\", \"on\", \"to\", \"a\", \"an\",\";\",\",\",\".\",\"it\",\"his\",\"he\",\"cost\",\"with\",\"per\",\"1\",\"000\"}\n",
        "filtered_words = [word for word in words if word not in stopwords]\n",
        "\n",
        "# --- Count most common words ---\n",
        "word_counts = Counter(filtered_words)\n",
        "top_three = word_counts.most_common(3)\n",
        "\n",
        "# --- Output ---\n",
        "print(\"Top 3 most used words:\")\n",
        "for word, count in top_three:\n",
        "    print(f\"{word}: {count} times\")\n"
      ]
    }
  ]
}