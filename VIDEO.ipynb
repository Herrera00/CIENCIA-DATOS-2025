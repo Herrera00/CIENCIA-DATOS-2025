{
  "nbformat": 4,
  "nbformat_minor": 0,
  "metadata": {
    "colab": {
      "provenance": [],
      "authorship_tag": "ABX9TyN2NNsLoea56ZlKD8Ciqwnk",
      "include_colab_link": true
    },
    "kernelspec": {
      "name": "python3",
      "display_name": "Python 3"
    },
    "language_info": {
      "name": "python"
    }
  },
  "cells": [
    {
      "cell_type": "markdown",
      "metadata": {
        "id": "view-in-github",
        "colab_type": "text"
      },
      "source": [
        "<a href=\"https://colab.research.google.com/github/Herrera00/CIENCIA-DATOS-2025/blob/main/VIDEO.ipynb\" target=\"_parent\"><img src=\"https://colab.research.google.com/assets/colab-badge.svg\" alt=\"Open In Colab\"/></a>"
      ]
    },
    {
      "cell_type": "code",
      "execution_count": 1,
      "metadata": {
        "id": "B1ZZiEP6puoY",
        "outputId": "c7abfc0e-63b8-4388-e515-3f9c2bbc5af7",
        "colab": {
          "base_uri": "https://localhost:8080/"
        }
      },
      "outputs": [
        {
          "output_type": "stream",
          "name": "stdout",
          "text": [
            "Top 10 most used words:\n",
            "government: 8\n",
            "gdp: 7\n",
            "what: 5\n",
            "year: 4\n",
            "country: 4\n",
            "s: 4\n",
            "makes: 4\n",
            "how: 3\n",
            "money: 3\n",
            "within: 3\n"
          ]
        }
      ],
      "source": [
        "from collections import Counter\n",
        "import re\n",
        "\n",
        "# Texto de entrada\n",
        "text = \"\"\"\n",
        "Contrary to what most people think, the Gross Domestic Product or GDP does not tell you (0:08) how much money your government made during a certain year. (0:11) Instead, it tells you how much everyone generated that year combined within your country's (0:16) borders. (0:17) From employees who sell their time to businesses who sell products or services, all economic (0:22) participants sell something and that's what the GDP measures.\n",
        "(0:26) It basically adds up the value of all final goods and services which have been produced (0:31) within a country's borders over a certain period of time. (0:34) The government taxes all of these economic participants and the money it makes each year (0:39) isn't the entire GDP, but rather a percentage of the GDP. (0:44) The money your government makes each year is called government revenue, but since far (0:49) more people talk about the GDP when assessing how well a country did, it should come as (0:54) no surprise that the average individual tends to confuse these two terms.\n",
        "(0:58) What you need to remember is this, government revenue is what the government makes, whereas (1:04) the GDP is what everyone within a country's borders makes combined. (1:09) So, unless government officials become crazy and increase taxes to 100%, the GDP will always (1:17) be greater than the government revenue.\n",
        "\"\"\"\n",
        "\n",
        "# Lista simple de stopwords (puedes ampliarla si quieres)\n",
        "stopwords = {\n",
        "    \"the\",\"and\",\"to\",\"of\",\"in\",\"on\",\"for\",\"by\",\"with\",\"as\",\"at\",\"an\",\"a\",\"is\",\"it\",\n",
        "    \"was\",\"were\",\"be\",\"been\",\"being\",\"from\",\"that\",\"this\",\"which\",\"but\",\"or\",\"so\",\n",
        "    \"are\",\"am\",\"have\",\"has\",\"had\",\"do\",\"does\",\"did\",\"not\",\"no\",\"yes\",\"such\",\"we\",\n",
        "    \"they\",\"you\",\"he\",\"she\",\"i\",\"me\",\"my\",\"your\",\"our\",\"their\",\"his\",\"her\",\"its\",\n",
        "    \"them\",\"us\",\"will\",\"would\",\"can\",\"could\",\"should\",\"shall\",\"may\",\"might\",\"must\"\n",
        "}\n",
        "\n",
        "# Tokenización: solo palabras (sin números ni símbolos)\n",
        "words = re.findall(r\"\\b[a-z]+\\b\", text.lower())\n",
        "\n",
        "# Filtrado de stopwords\n",
        "clean_words = [w for w in words if w not in stopwords]\n",
        "\n",
        "# Conteo de palabras\n",
        "counter = Counter(clean_words)\n",
        "\n",
        "# Top 10\n",
        "top10 = counter.most_common(10)\n",
        "\n",
        "print(\"Top 10 most used words:\")\n",
        "for word, count in top10:\n",
        "    print(f\"{word}: {count}\")"
      ]
    }
  ]
}