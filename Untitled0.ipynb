{
  "nbformat": 4,
  "nbformat_minor": 0,
  "metadata": {
    "colab": {
      "provenance": [],
      "authorship_tag": "ABX9TyMfSZLmMZnoUN/8iQW6RbP1",
      "include_colab_link": true
    },
    "kernelspec": {
      "name": "python3",
      "display_name": "Python 3"
    },
    "language_info": {
      "name": "python"
    }
  },
  "cells": [
    {
      "cell_type": "markdown",
      "metadata": {
        "id": "view-in-github",
        "colab_type": "text"
      },
      "source": [
        "<a href=\"https://colab.research.google.com/github/Herrera00/CIENCIA-DATOS-2025/blob/main/Untitled0.ipynb\" target=\"_parent\"><img src=\"https://colab.research.google.com/assets/colab-badge.svg\" alt=\"Open In Colab\"/></a>"
      ]
    },
    {
      "cell_type": "markdown",
      "source": [
        "#Prueba de valoración"
      ],
      "metadata": {
        "id": "oVxuwrENyurN"
      }
    },
    {
      "cell_type": "markdown",
      "source": [
        "##Estructura de selección\n",
        "\n"
      ],
      "metadata": {
        "id": "TOtXU3u4yXlm"
      }
    },
    {
      "cell_type": "markdown",
      "source": [
        "###Titulo 3\n"
      ],
      "metadata": {
        "id": "qXtpBiVRygMd"
      }
    }
  ]
}