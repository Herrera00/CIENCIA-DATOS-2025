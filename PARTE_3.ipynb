{
  "nbformat": 4,
  "nbformat_minor": 0,
  "metadata": {
    "colab": {
      "provenance": [],
      "authorship_tag": "ABX9TyNGC1/zlbWFFGzDLCzlMRDr",
      "include_colab_link": true
    },
    "kernelspec": {
      "name": "python3",
      "display_name": "Python 3"
    },
    "language_info": {
      "name": "python"
    }
  },
  "cells": [
    {
      "cell_type": "markdown",
      "metadata": {
        "id": "view-in-github",
        "colab_type": "text"
      },
      "source": [
        "<a href=\"https://colab.research.google.com/github/Herrera00/CIENCIA-DATOS-2025/blob/main/PARTE_3.ipynb\" target=\"_parent\"><img src=\"https://colab.research.google.com/assets/colab-badge.svg\" alt=\"Open In Colab\"/></a>"
      ]
    },
    {
      "cell_type": "markdown",
      "source": [
        "#PARTE 3"
      ],
      "metadata": {
        "id": "5ZHjixalkCmh"
      }
    },
    {
      "cell_type": "markdown",
      "source": [
        "1."
      ],
      "metadata": {
        "id": "VFz2GIfIkHS3"
      }
    },
    {
      "cell_type": "code",
      "source": [
        "cuadrado_lambda = lambda numero: numero ** 2\n",
        "\n",
        "# Ejemplo de uso:\n",
        "print(f\"El cuadrado de 50 es: {cuadrado_lambda(50)}\")"
      ],
      "metadata": {
        "colab": {
          "base_uri": "https://localhost:8080/"
        },
        "id": "cK3gRbSFkYcp",
        "outputId": "857bf5c3-97e9-4c2b-94cf-3c9063649b1e"
      },
      "execution_count": 1,
      "outputs": [
        {
          "output_type": "stream",
          "name": "stdout",
          "text": [
            "El cuadrado de 50 es: 2500\n"
          ]
        }
      ]
    },
    {
      "cell_type": "markdown",
      "source": [
        "2."
      ],
      "metadata": {
        "id": "kO2iss85kJ-8"
      }
    },
    {
      "cell_type": "code",
      "source": [
        "import random\n",
        "\n",
        "def saludo_personalizado(nombre):\n",
        "    saludos = [\n",
        "        f\"¡Hola {nombre}! ¿Cómo estás?\",\n",
        "        f\"¡Buenos días, {nombre}!\",\n",
        "        f\"¡Qué gusto verte, {nombre}!\",\n",
        "        f\"¡Saludos cordiales, {nombre}!\",\n",
        "        f\"¡Bienvenido/a, {nombre}!\",\n",
        "        f\"¡Hola {nombre}! Espero que tengas un gran día\",\n",
        "        f\"¡{nombre}! ¡Qué alegría encontrarte!\",\n",
        "        f\"¡Hey {nombre}! ¿Todo bien?\",\n",
        "        f\"¡Estimado/a {nombre}, un placer saludarte!\",\n",
        "        f\"¡{nombre}! ¡Espero que estés genial!\",\n",
        "        f\"¡Hola {nombre}! ¿Cómo va tu día?\",\n",
        "        f\"¡{nombre}! ¡Qué bonito verte por aquí!\",\n",
        "        f\"¡Saludos {nombre}! Que tengas un excelente día\",\n",
        "        f\"¡{nombre}! ¡Siempre es un placer!\",\n",
        "        f\"¡Hola {nombre}! ¿Listo para un gran día?\",\n",
        "        f\"¡{nombre}! ¡Eres increíble!\",\n",
        "        f\"¡Buenos días {nombre}! ¡A brillar!\",\n",
        "        f\"¡Hola {nombre}! ¡Que la fuerza te acompañe!\",\n",
        "        f\"¡{nombre}! ¡El mundo es mejor contigo!\",\n",
        "        f\"¡Hola {nombre}! ¡Que tengas una jornada fantástica!\"\n",
        "    ]\n",
        "    return random.choice(saludos)\n",
        "\n",
        "name= input(\"Ingrense nombre:  \")\n",
        "print(saludo_personalizado(name))"
      ],
      "metadata": {
        "colab": {
          "base_uri": "https://localhost:8080/"
        },
        "id": "IZflFJfAkjq3",
        "outputId": "d273f1a2-c30c-46fa-baad-e3b81391c713"
      },
      "execution_count": 2,
      "outputs": [
        {
          "output_type": "stream",
          "name": "stdout",
          "text": [
            "Ingrense nombre:  JUAN\n",
            "¡Hola JUAN! ¿Cómo va tu día?\n"
          ]
        }
      ]
    },
    {
      "cell_type": "markdown",
      "source": [
        "3."
      ],
      "metadata": {
        "id": "1FTU8kGgkLEX"
      }
    },
    {
      "cell_type": "code",
      "source": [
        "def operaciones_basicas(num1, num2):\n",
        "    suma = num1 + num2\n",
        "    resta = num1 - num2\n",
        "    multiplicacion = num1 * num2\n",
        "    division = num1 / num2 if num2 != 0 else \"Error: División por cero\"\n",
        "\n",
        "    return {\n",
        "        'suma': suma,\n",
        "        'resta': resta,\n",
        "        'multiplicacion': multiplicacion,\n",
        "        'division': division\n",
        "    }\n",
        "\n",
        "resultado = operaciones_basicas(10, 5)\n",
        "print(f\"Suma: {resultado['suma']}, Resta: {resultado['resta']}\")\n"
      ],
      "metadata": {
        "colab": {
          "base_uri": "https://localhost:8080/"
        },
        "id": "F3nlciAykmJR",
        "outputId": "fd8b0150-d28f-4579-fb95-345b8d3d116f"
      },
      "execution_count": 3,
      "outputs": [
        {
          "output_type": "stream",
          "name": "stdout",
          "text": [
            "Suma: 15, Resta: 5\n"
          ]
        }
      ]
    },
    {
      "cell_type": "markdown",
      "source": [
        "4."
      ],
      "metadata": {
        "id": "un6YrrcdkLrE"
      }
    },
    {
      "cell_type": "code",
      "source": [
        "# Función lambda (con operador ternario):\n",
        "es_mayor_de_edad_lambda = lambda edad: \"Es mayor de edad\" if edad >= 18 else \"No es mayor de edad\"\n",
        "\n",
        "# Ejemplo de uso:\n",
        "print(es_mayor_de_edad_lambda(10))"
      ],
      "metadata": {
        "colab": {
          "base_uri": "https://localhost:8080/"
        },
        "id": "GV1Z7UBzkrzv",
        "outputId": "27c5bd36-fd70-4984-a8d2-15efbc2c6d5f"
      },
      "execution_count": 4,
      "outputs": [
        {
          "output_type": "stream",
          "name": "stdout",
          "text": [
            "No es mayor de edad\n"
          ]
        }
      ]
    },
    {
      "cell_type": "markdown",
      "source": [
        "5."
      ],
      "metadata": {
        "id": "eXBNnj9zkMQY"
      }
    },
    {
      "cell_type": "code",
      "source": [
        "es_palindromo_lambda = lambda palabra: palabra.lower().replace(\" \", \"\") == palabra.lower().replace(\" \", \"\")[::-1]\n",
        "\n",
        "# Ejemplo de uso:\n",
        "print(f\"'zagaz' es palíndromo: {es_palindromo_lambda('zagaz')}\")\n",
        "print(f\"'Python' es palíndromo: {es_palindromo_lambda('Python')}\")"
      ],
      "metadata": {
        "colab": {
          "base_uri": "https://localhost:8080/"
        },
        "id": "75pa53mtkyc1",
        "outputId": "eb129555-fa3f-4ab8-d1e9-566714d293c6"
      },
      "execution_count": 5,
      "outputs": [
        {
          "output_type": "stream",
          "name": "stdout",
          "text": [
            "'zagaz' es palíndromo: True\n",
            "'Python' es palíndromo: False\n"
          ]
        }
      ]
    },
    {
      "cell_type": "markdown",
      "source": [
        "6."
      ],
      "metadata": {
        "id": "W64Jm_xEkNAh"
      }
    },
    {
      "cell_type": "code",
      "source": [
        "def contar_vocales(texto):\n",
        "    vocales = \"aeiouAEIOU\"\n",
        "    contador = 0\n",
        "    for caracter in texto:\n",
        "        if caracter in vocales:\n",
        "            contador += 1\n",
        "    return contador\n",
        "\n",
        "print(f\": {contar_vocales('programación')}\")"
      ],
      "metadata": {
        "colab": {
          "base_uri": "https://localhost:8080/"
        },
        "id": "gIIGuxK8k3pl",
        "outputId": "c18af40c-e059-4da4-8767-6ef8b5c5d784"
      },
      "execution_count": 6,
      "outputs": [
        {
          "output_type": "stream",
          "name": "stdout",
          "text": [
            ": 4\n"
          ]
        }
      ]
    },
    {
      "cell_type": "markdown",
      "source": [
        "7."
      ],
      "metadata": {
        "id": "osdtmxQxkNy9"
      }
    },
    {
      "cell_type": "code",
      "source": [
        "sumar_lista_lambda = lambda numeros: sum(numeros)\n",
        "\n",
        "# Ejemplo de uso:\n",
        "lista = [1, 2, 3, 4, 5]\n",
        "print(f\"Suma de la lista: {sumar_lista_lambda(lista)}\")"
      ],
      "metadata": {
        "colab": {
          "base_uri": "https://localhost:8080/"
        },
        "id": "yYtMrOebk8GE",
        "outputId": "156a5bc9-e55f-46d8-dea2-5c54e4c0774f"
      },
      "execution_count": 7,
      "outputs": [
        {
          "output_type": "stream",
          "name": "stdout",
          "text": [
            "Suma de la lista: 15\n"
          ]
        }
      ]
    },
    {
      "cell_type": "markdown",
      "source": [
        "8."
      ],
      "metadata": {
        "id": "mD94bvd3kObd"
      }
    },
    {
      "cell_type": "code",
      "source": [
        "mayor_menor_lambda = lambda lista: (max(lista), min(lista)) if lista else (None, None)\n",
        "\n",
        "# Ejemplo de uso:\n",
        "lista = [3, 1, 4, 1, 5, 9]\n",
        "mayor, menor = mayor_menor_lambda(lista)\n",
        "print(f\"Mayor: {mayor}, Menor: {menor}\")"
      ],
      "metadata": {
        "colab": {
          "base_uri": "https://localhost:8080/"
        },
        "id": "AddK-nNyk_K6",
        "outputId": "a6d97e98-29a0-47be-d111-dcf608c6f285"
      },
      "execution_count": 8,
      "outputs": [
        {
          "output_type": "stream",
          "name": "stdout",
          "text": [
            "Mayor: 9, Menor: 1\n"
          ]
        }
      ]
    },
    {
      "cell_type": "markdown",
      "source": [
        "9."
      ],
      "metadata": {
        "id": "BTxrWGVGkPDj"
      }
    },
    {
      "cell_type": "code",
      "source": [
        "invertir_lista_lambda = lambda lista: lista[::-1]\n",
        "\n",
        "# Ejemplo de uso:\n",
        "lista = [1, 2, 3, 4, 5]\n",
        "print(f\"Lista invertida: {invertir_lista_lambda(lista)}\")"
      ],
      "metadata": {
        "colab": {
          "base_uri": "https://localhost:8080/"
        },
        "id": "GY42B749lCFO",
        "outputId": "7b7214b4-8524-418b-c4fa-0d60b04b721d"
      },
      "execution_count": 9,
      "outputs": [
        {
          "output_type": "stream",
          "name": "stdout",
          "text": [
            "Lista invertida: [5, 4, 3, 2, 1]\n"
          ]
        }
      ]
    },
    {
      "cell_type": "markdown",
      "source": [
        "10."
      ],
      "metadata": {
        "id": "_2h_SyyKkPwz"
      }
    },
    {
      "cell_type": "markdown",
      "source": [
        "11."
      ],
      "metadata": {
        "id": "Vv3VeZ2nkQcR"
      }
    },
    {
      "cell_type": "code",
      "source": [
        "eliminar_repetidos_lambda = lambda lista: list(set(lista))\n",
        "\n",
        "# Ejemplo de uso:\n",
        "lista = [1, 2, 2, 3, 3, 3, 4]\n",
        "print(f\"Sin repetidos: {eliminar_repetidos_lambda(lista)}\")"
      ],
      "metadata": {
        "colab": {
          "base_uri": "https://localhost:8080/"
        },
        "id": "JkX0jUdalKsg",
        "outputId": "be1b9d71-ef33-43e2-b4ea-56035226845b"
      },
      "execution_count": 12,
      "outputs": [
        {
          "output_type": "stream",
          "name": "stdout",
          "text": [
            "Sin repetidos: [1, 2, 3, 4]\n"
          ]
        }
      ]
    },
    {
      "cell_type": "markdown",
      "source": [
        "12."
      ],
      "metadata": {
        "id": "KSF--8KdkRHu"
      }
    },
    {
      "cell_type": "code",
      "source": [
        "def es_primo_auxiliar(num):\n",
        "    if num < 2:\n",
        "        return False\n",
        "    for i in range(2, int(num ** 0.5) + 1):\n",
        "        if num % i == 0:\n",
        "            return False\n",
        "    return True\n",
        "\n",
        "def numeros_primos(lista):\n",
        "    return [num for num in lista if es_primo_auxiliar(num)]\n",
        "\n",
        "lista = [2, 3, 4, 5, 6, 7, 8, 9, 10, 11]\n",
        "print(f\"Números primos: {numeros_primos(lista)}\")"
      ],
      "metadata": {
        "colab": {
          "base_uri": "https://localhost:8080/"
        },
        "id": "WYEiOAITlT04",
        "outputId": "eeecd0e4-ca1f-4686-d709-258fb471d8c5"
      },
      "execution_count": 13,
      "outputs": [
        {
          "output_type": "stream",
          "name": "stdout",
          "text": [
            "Números primos: [2, 3, 5, 7, 11]\n"
          ]
        }
      ]
    },
    {
      "cell_type": "markdown",
      "source": [
        "13."
      ],
      "metadata": {
        "id": "iL7Mv4QbkSAD"
      }
    },
    {
      "cell_type": "code",
      "source": [
        "def mensaje_persona(persona):\n",
        "    nombre = persona.get('nombre', 'Desconocido')\n",
        "    edad = persona.get('edad', 'Desconocida')\n",
        "    return f\"El/La señor/a {nombre} tiene {edad} años\"\n",
        "\n",
        "persona = {'nombre': 'Juan', 'edad': 25}\n",
        "print(mensaje_persona(persona))"
      ],
      "metadata": {
        "colab": {
          "base_uri": "https://localhost:8080/"
        },
        "id": "SUDVrfE7lbFE",
        "outputId": "234305aa-f165-42f1-afb8-6e4093fe625a"
      },
      "execution_count": 14,
      "outputs": [
        {
          "output_type": "stream",
          "name": "stdout",
          "text": [
            "El/La señor/a Juan tiene 25 años\n"
          ]
        }
      ]
    },
    {
      "cell_type": "markdown",
      "source": [
        "14."
      ],
      "metadata": {
        "id": "oGlpBKDNkSnW"
      }
    },
    {
      "cell_type": "code",
      "source": [
        "total_productos_lambda = lambda productos: sum(productos.values())\n",
        "\n",
        "# Ejemplo de uso:\n",
        "productos = {'PERA': 2.5, 'FRESA': 1.8, 'LIMON': 3.2}\n",
        "print(f\"Total: ${total_productos_lambda(productos)}\")\n",
        ""
      ],
      "metadata": {
        "colab": {
          "base_uri": "https://localhost:8080/"
        },
        "id": "Y5IT4F-FlegC",
        "outputId": "c39b95f2-4e95-4a2c-d20c-3ea71c5d2f65"
      },
      "execution_count": 16,
      "outputs": [
        {
          "output_type": "stream",
          "name": "stdout",
          "text": [
            "Total: $7.5\n"
          ]
        }
      ]
    },
    {
      "cell_type": "markdown",
      "source": [
        "15."
      ],
      "metadata": {
        "id": "X8-Cl4TQkTVd"
      }
    },
    {
      "cell_type": "code",
      "source": [
        "promedio_estudiantes_lambda = lambda estudiantes: sum(estudiantes.values()) / len(estudiantes) if estudiantes else 0\n",
        "\n",
        "# Ejemplo de uso:\n",
        "estudiantes = {'Ana': 85, 'Luis': 92, 'María': 78}\n",
        "print(f\"Promedio: {promedio_estudiantes_lambda(estudiantes)}\")"
      ],
      "metadata": {
        "colab": {
          "base_uri": "https://localhost:8080/"
        },
        "id": "9l2-1P_elmR6",
        "outputId": "fcb78a8c-5303-4302-e79e-1e3ce76161c6"
      },
      "execution_count": 17,
      "outputs": [
        {
          "output_type": "stream",
          "name": "stdout",
          "text": [
            "Promedio: 85.0\n"
          ]
        }
      ]
    },
    {
      "cell_type": "markdown",
      "source": [
        "16."
      ],
      "metadata": {
        "id": "ri_3gTK9kUIA"
      }
    },
    {
      "cell_type": "code",
      "source": [
        "buscar_nota_lambda = lambda estudiantes, nombre: estudiantes.get(nombre, 'no encontrado')\n",
        "\n",
        "# Ejemplo de uso:\n",
        "estudiantes = {'Ana': 85, 'Luis': 92, 'María': 78}\n",
        "print(f\"Nota de Ana: {buscar_nota_lambda(estudiantes, 'Ana')}\")"
      ],
      "metadata": {
        "colab": {
          "base_uri": "https://localhost:8080/"
        },
        "id": "sodavpgOlp55",
        "outputId": "f300d113-ebe7-462d-ba3a-f7e85d633fc9"
      },
      "execution_count": 18,
      "outputs": [
        {
          "output_type": "stream",
          "name": "stdout",
          "text": [
            "Nota de Ana: 85\n"
          ]
        }
      ]
    },
    {
      "cell_type": "markdown",
      "source": [
        "17."
      ],
      "metadata": {
        "id": "5V-3T-ILkU7P"
      }
    },
    {
      "cell_type": "code",
      "source": [
        "estudiante_mayor_nota_lambda = lambda estudiantes: max(estudiantes, key=estudiantes.get) if estudiantes else 'No hay estudiantes'\n",
        "\n",
        "# Ejemplo de uso:\n",
        "estudiantes = {'LUZ': 85, 'MARIO': 92, 'LUIS': 78}\n",
        "print(f\"Estudiante con mayor nota: {estudiante_mayor_nota_lambda(estudiantes)}\")"
      ],
      "metadata": {
        "colab": {
          "base_uri": "https://localhost:8080/"
        },
        "id": "DjFYdst4lslq",
        "outputId": "9a9ea5cc-4c9c-4f98-dc88-d7c075d6f2bc"
      },
      "execution_count": 20,
      "outputs": [
        {
          "output_type": "stream",
          "name": "stdout",
          "text": [
            "Estudiante con mayor nota: MARIO\n"
          ]
        }
      ]
    },
    {
      "cell_type": "markdown",
      "source": [
        "18."
      ],
      "metadata": {
        "id": "JAhLaR0LkVns"
      }
    },
    {
      "cell_type": "code",
      "source": [
        "def productos_precio_mayor(productos, precio_minimo):\n",
        "    return {producto: precio for producto, precio in productos.items()\n",
        "            if precio > precio_minimo}\n",
        "\n",
        "productos = {'TORNILLO': 800, 'PEGAMENTO': 25, 'LLAVE': 60}\n",
        "print(f\"Productos >$50: {productos_precio_mayor(productos, 50)}\")"
      ],
      "metadata": {
        "colab": {
          "base_uri": "https://localhost:8080/"
        },
        "id": "4J3tgpCNl1JA",
        "outputId": "c82f97d2-51c4-4c74-82e3-e173c3f508f1"
      },
      "execution_count": 22,
      "outputs": [
        {
          "output_type": "stream",
          "name": "stdout",
          "text": [
            "Productos >$50: {'TORNILLO': 800, 'LLAVE': 60}\n"
          ]
        }
      ]
    },
    {
      "cell_type": "markdown",
      "source": [
        "19."
      ],
      "metadata": {
        "id": "FOJ62y9MkWhj"
      }
    },
    {
      "cell_type": "code",
      "source": [
        "def horas_totales_empleado(empleados):\n",
        "    return {empleado: sum(horas) for empleado, horas in empleados.items()}\n",
        "\n",
        "empleados = {'Juan': [8, 7, 8, 6], 'Ana': [9, 8, 7, 8]}\n",
        "print(f\"Horas totales: {horas_totales_empleado(empleados)}\")\n"
      ],
      "metadata": {
        "colab": {
          "base_uri": "https://localhost:8080/"
        },
        "id": "9KxeeVxBl9Bt",
        "outputId": "6488cdb5-427f-4aa6-efd0-edea85c2aaf7"
      },
      "execution_count": 24,
      "outputs": [
        {
          "output_type": "stream",
          "name": "stdout",
          "text": [
            "Horas totales: {'Juan': 29, 'Ana': 32}\n"
          ]
        }
      ]
    },
    {
      "cell_type": "markdown",
      "source": [
        "20."
      ],
      "metadata": {
        "id": "PeCH7kcEkXO3"
      }
    },
    {
      "cell_type": "code",
      "source": [
        "def promedio_mayores_edad(estudiantes):\n",
        "    mayores = [datos['nota'] for datos in estudiantes.values()\n",
        "               if datos['edad'] >= 18]\n",
        "\n",
        "    if not mayores:\n",
        "        return 0\n",
        "\n",
        "    return sum(mayores) / len(mayores)\n",
        "\n",
        "estudiantes = {\n",
        "    'Ana': {'nota': 85, 'edad': 20},\n",
        "    'Luis': {'nota': 92, 'edad': 17},\n",
        "    'María': {'nota': 78, 'edad': 19}\n",
        " }\n",
        "print(f\"Promedio de mayores de edad: {promedio_mayores_edad(estudiantes)}\")"
      ],
      "metadata": {
        "colab": {
          "base_uri": "https://localhost:8080/"
        },
        "id": "We-hGdGKmAtp",
        "outputId": "d7fabcc1-7a47-4cb6-f715-2d420cd86866"
      },
      "execution_count": 25,
      "outputs": [
        {
          "output_type": "stream",
          "name": "stdout",
          "text": [
            "Promedio de mayores de edad: 81.5\n"
          ]
        }
      ]
    }
  ]
}