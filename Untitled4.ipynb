{
  "nbformat": 4,
  "nbformat_minor": 0,
  "metadata": {
    "colab": {
      "provenance": [],
      "authorship_tag": "ABX9TyM8HcMbrbX3y2FlAJA/8M3v",
      "include_colab_link": true
    },
    "kernelspec": {
      "name": "python3",
      "display_name": "Python 3"
    },
    "language_info": {
      "name": "python"
    }
  },
  "cells": [
    {
      "cell_type": "markdown",
      "metadata": {
        "id": "view-in-github",
        "colab_type": "text"
      },
      "source": [
        "<a href=\"https://colab.research.google.com/github/Herrera00/CIENCIA-DATOS-2025/blob/main/Untitled4.ipynb\" target=\"_parent\"><img src=\"https://colab.research.google.com/assets/colab-badge.svg\" alt=\"Open In Colab\"/></a>"
      ]
    },
    {
      "cell_type": "markdown",
      "source": [
        "#FUNCIONES Y TIPOS DE DATOS"
      ],
      "metadata": {
        "id": "Cd73kLEpAkto"
      }
    },
    {
      "cell_type": "markdown",
      "source": [
        "1. Retornar el cuadro de un numero"
      ],
      "metadata": {
        "id": "FUVVeFptAzBZ"
      }
    },
    {
      "cell_type": "code",
      "source": [
        "def cuadrado (num):\n",
        "  return num ** 2\n",
        "\n",
        "print(cuadrado(5))"
      ],
      "metadata": {
        "colab": {
          "base_uri": "https://localhost:8080/"
        },
        "id": "DHi7E7PCA3xo",
        "outputId": "05f99101-1907-48c9-8c52-79774a3ef7da"
      },
      "execution_count": 13,
      "outputs": [
        {
          "output_type": "stream",
          "name": "stdout",
          "text": [
            "25\n"
          ]
        }
      ]
    },
    {
      "cell_type": "markdown",
      "source": [
        "2. Retornar saludo personalizado\n"
      ],
      "metadata": {
        "id": "Zm6oDiKzB1tX"
      }
    },
    {
      "cell_type": "code",
      "source": [
        "import random\n",
        "\n",
        "def saludo_personalizado(nombre):\n",
        "    saludos = [\n",
        "        \"¡Hola\", \"¡Qué gusto verte\", \"¡Buenos días\", \"¡Qué alegría,\",\n",
        "        \"¡Saludos\", \"¡Hey\", \"¡Qué onda\", \"¡Bienvenido\", \"¡Hola hola\",\n",
        "        \"¡Encantado de verte\", \"¡Un gusto saludarte\", \"¡Qué tal\",\n",
        "        \"¡Buen día\", \"¡Hola de nuevo\", \"¡Qué placer verte\",\n",
        "        \"¡Saludos cordiales\", \"¡Hola, compañero\", \"¡Hola, crack\",\n",
        "        \"¡Te extrañábamos\", \"¡Hey hey\"\n",
        "    ]\n",
        "    return f\"{random.choice(saludos)} {nombre}!\""
      ],
      "metadata": {
        "id": "JE289uRCCP6n"
      },
      "execution_count": 22,
      "outputs": []
    },
    {
      "cell_type": "markdown",
      "source": [
        "3. Retornar suma, resta, multiplicacion y division de dos numero"
      ],
      "metadata": {
        "id": "nGWSnCACE51c"
      }
    },
    {
      "cell_type": "code",
      "source": [],
      "metadata": {
        "id": "lQMpaYudFB-U"
      },
      "execution_count": null,
      "outputs": []
    }
  ]
}